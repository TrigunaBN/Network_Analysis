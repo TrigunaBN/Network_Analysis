{
 "cells": [
  {
   "cell_type": "code",
   "execution_count": 1,
   "metadata": {
    "scrolled": true
   },
   "outputs": [
    {
     "name": "stderr",
     "output_type": "stream",
     "text": [
      "\n",
      "Attaching package: 'igraph'\n",
      "\n",
      "The following objects are masked from 'package:stats':\n",
      "\n",
      "    decompose, spectrum\n",
      "\n",
      "The following object is masked from 'package:base':\n",
      "\n",
      "    union\n",
      "\n"
     ]
    }
   ],
   "source": [
    "library(\"igraph\")\n",
    "# read data file\n",
    "usair <- read.graph(\"USAir97.net\",\"pajek\")"
   ]
  },
  {
   "cell_type": "code",
   "execution_count": 2,
   "metadata": {},
   "outputs": [],
   "source": [
    "library(\"repr\")  #For resizing plots\n",
    "\n",
    "# Change plot size to 5 x 4\n",
    "options(repr.plot.width=5, repr.plot.height=4)"
   ]
  },
  {
   "cell_type": "markdown",
   "metadata": {},
   "source": [
    "## Summary\n",
    "\n",
    "•\tImport dataset in package of your choice <br>\n",
    "•\tCalculate number of nodes, number of edges, density <br>\n",
    "•\tCalculate degree and plot degree distribution <br>\n",
    "•\tDescribe degree distribution properties  <br>\n",
    "•\tCalculate betweenness if appropriate <br>\n",
    "•\tIdentify the node with the highest degree <br>\n",
    "•\tPlot the network and identify the nodes with the highest centrality <br>\n",
    "•\tRemove the nodes with the highest centrality and rerun the plot. What has happened? How many nodes do you have to remove before the network structure starts to collapse?\n"
   ]
  },
  {
   "cell_type": "markdown",
   "metadata": {},
   "source": [
    "### Info"
   ]
  },
  {
   "cell_type": "code",
   "execution_count": 3,
   "metadata": {},
   "outputs": [
    {
     "data": {
      "text/html": [
       "FALSE"
      ],
      "text/latex": [
       "FALSE"
      ],
      "text/markdown": [
       "FALSE"
      ],
      "text/plain": [
       "[1] FALSE"
      ]
     },
     "metadata": {},
     "output_type": "display_data"
    },
    {
     "data": {
      "text/html": [
       "TRUE"
      ],
      "text/latex": [
       "TRUE"
      ],
      "text/markdown": [
       "TRUE"
      ],
      "text/plain": [
       "[1] TRUE"
      ]
     },
     "metadata": {},
     "output_type": "display_data"
    }
   ],
   "source": [
    "is.directed(usair)\n",
    "is.weighted(usair) # Strenght of the link: higher value=stronger link"
   ]
  },
  {
   "cell_type": "markdown",
   "metadata": {},
   "source": [
    "### Extract Vertices"
   ]
  },
  {
   "cell_type": "code",
   "execution_count": 4,
   "metadata": {},
   "outputs": [
    {
     "data": {
      "text/plain": [
       "+ 1/332 vertex, named, from 8c9f0ce:\n",
       "[1] Ralph Wien Memorial"
      ]
     },
     "metadata": {},
     "output_type": "display_data"
    },
    {
     "data": {
      "text/html": [
       "'Ralph Wien Memorial'"
      ],
      "text/latex": [
       "'Ralph Wien Memorial'"
      ],
      "text/markdown": [
       "'Ralph Wien Memorial'"
      ],
      "text/plain": [
       "[1] \"Ralph Wien Memorial\""
      ]
     },
     "metadata": {},
     "output_type": "display_data"
    },
    {
     "data": {
      "text/html": [
       "332"
      ],
      "text/latex": [
       "332"
      ],
      "text/markdown": [
       "332"
      ],
      "text/plain": [
       "[1] 332"
      ]
     },
     "metadata": {},
     "output_type": "display_data"
    }
   ],
   "source": [
    "#V(usair) - will return the name\n",
    "#V(usair)$weight  #if weight available, outputs it\n",
    "#V(usair)$id   \n",
    "V(usair)[3]      #[1] Ralph Wien Memorial\n",
    "V(usair)[3]$id   #[1] \"Ralph Wien Memorial\" (Notice the quotes)\n",
    "vcount(usair)    #332"
   ]
  },
  {
   "cell_type": "markdown",
   "metadata": {},
   "source": [
    "### Extract Edges"
   ]
  },
  {
   "cell_type": "code",
   "execution_count": 5,
   "metadata": {},
   "outputs": [
    {
     "data": {
      "text/plain": [
       "+ 10/2126 edges from 8c9f0ce (vertex names):\n",
       " [1] Chicago O'hare Intl--San Francisco Intl          \n",
       " [2] Chicago O'hare Intl--Phoenix Sky Harbor Intl     \n",
       " [3] Chicago O'hare Intl--Lambert-St Louis Intl       \n",
       " [4] Chicago O'hare Intl--Pittsburgh Intll            \n",
       " [5] Chicago O'hare Intl--Philadelphia Intl           \n",
       " [6] Seattle-Tacoma Intl--Chicago O'hare Intl         \n",
       " [7] Chicago O'hare Intl--Salt Lake City Intl         \n",
       " [8] Chicago O'hare Intl--San Diego Intl-Lindbergh Fld\n",
       " [9] Chicago O'hare Intl--Tampa Intl                  \n",
       "[10] Chicago O'hare Intl--Raleigh-Durham Intll        "
      ]
     },
     "metadata": {},
     "output_type": "display_data"
    },
    {
     "data": {
      "text/html": [
       "<ol class=list-inline>\n",
       "\t<li>0.1804</li>\n",
       "\t<li>0.1474</li>\n",
       "\t<li>0.0332</li>\n",
       "\t<li>0.0416</li>\n",
       "\t<li>0.0676</li>\n",
       "\t<li>0.1828</li>\n",
       "\t<li>0.1231</li>\n",
       "\t<li>0.1733</li>\n",
       "\t<li>0.1366</li>\n",
       "\t<li>0.0745</li>\n",
       "</ol>\n"
      ],
      "text/latex": [
       "\\begin{enumerate*}\n",
       "\\item 0.1804\n",
       "\\item 0.1474\n",
       "\\item 0.0332\n",
       "\\item 0.0416\n",
       "\\item 0.0676\n",
       "\\item 0.1828\n",
       "\\item 0.1231\n",
       "\\item 0.1733\n",
       "\\item 0.1366\n",
       "\\item 0.0745\n",
       "\\end{enumerate*}\n"
      ],
      "text/markdown": [
       "1. 0.1804\n",
       "2. 0.1474\n",
       "3. 0.0332\n",
       "4. 0.0416\n",
       "5. 0.0676\n",
       "6. 0.1828\n",
       "7. 0.1231\n",
       "8. 0.1733\n",
       "9. 0.1366\n",
       "10. 0.0745\n",
       "\n",
       "\n"
      ],
      "text/plain": [
       " [1] 0.1804 0.1474 0.0332 0.0416 0.0676 0.1828 0.1231 0.1733 0.1366 0.0745"
      ]
     },
     "metadata": {},
     "output_type": "display_data"
    },
    {
     "data": {
      "text/html": [
       "2126"
      ],
      "text/latex": [
       "2126"
      ],
      "text/markdown": [
       "2126"
      ],
      "text/plain": [
       "[1] 2126"
      ]
     },
     "metadata": {},
     "output_type": "display_data"
    }
   ],
   "source": [
    "E(usair)[1:10]\n",
    "E(usair)[1:10]$weight\n",
    "ecount(usair) #Count of edges"
   ]
  },
  {
   "cell_type": "code",
   "execution_count": 6,
   "metadata": {},
   "outputs": [
    {
     "data": {
      "text/html": [
       "<table>\n",
       "<caption>A matrix: 1 × 2 of type chr</caption>\n",
       "<tbody>\n",
       "\t<tr><td>Chicago O'hare Intl</td><td>Tulsa Intl</td></tr>\n",
       "</tbody>\n",
       "</table>\n"
      ],
      "text/latex": [
       "A matrix: 1 × 2 of type chr\n",
       "\\begin{tabular}{ll}\n",
       "\t Chicago O'hare Intl & Tulsa Intl\\\\\n",
       "\\end{tabular}\n"
      ],
      "text/markdown": [
       "\n",
       "A matrix: 1 × 2 of type chr\n",
       "\n",
       "| Chicago O'hare Intl | Tulsa Intl |\n",
       "\n"
      ],
      "text/plain": [
       "     [,1]                [,2]      \n",
       "[1,] Chicago O'hare Intl Tulsa Intl"
      ]
     },
     "metadata": {},
     "output_type": "display_data"
    },
    {
     "data": {
      "text/plain": [
       "+ 1/332 vertex, named, from 8c9f0ce:\n",
       "[1] San Francisco Intl"
      ]
     },
     "metadata": {},
     "output_type": "display_data"
    },
    {
     "data": {
      "text/plain": [
       "+ 1/332 vertex, named, from 8c9f0ce:\n",
       "[1] Chicago O'hare Intl"
      ]
     },
     "metadata": {},
     "output_type": "display_data"
    },
    {
     "data": {
      "text/html": [
       "<table>\n",
       "<caption>A matrix: 11 × 2 of type chr</caption>\n",
       "<tbody>\n",
       "\t<tr><td>Chicago O'hare Intl   </td><td>Tulsa Intl                  </td></tr>\n",
       "\t<tr><td>Chicago O'hare Intl   </td><td>Norfolk Intl                </td></tr>\n",
       "\t<tr><td>Chicago O'hare Intl   </td><td>Tucson Intl                 </td></tr>\n",
       "\t<tr><td>Syracuse Hancock Intl </td><td>Chicago O'hare Intl         </td></tr>\n",
       "\t<tr><td>Bangor Intl           </td><td>Chicago O'hare Intl         </td></tr>\n",
       "\t<tr><td>Greater Rochester Intl</td><td>Chicago O'hare Intl         </td></tr>\n",
       "\t<tr><td>Chicago O'hare Intl   </td><td>Theodore Francis Green State</td></tr>\n",
       "\t<tr><td>Chicago O'hare Intl   </td><td>Louisville Intl             </td></tr>\n",
       "\t<tr><td>Chicago O'hare Intl   </td><td>Sarasota/Bradenton Intl     </td></tr>\n",
       "\t<tr><td>Chicago O'hare Intl   </td><td>Richmond Intll              </td></tr>\n",
       "\t<tr><td>Chicago O'hare Intl   </td><td>Mc Ghee Tyson               </td></tr>\n",
       "</tbody>\n",
       "</table>\n"
      ],
      "text/latex": [
       "A matrix: 11 × 2 of type chr\n",
       "\\begin{tabular}{ll}\n",
       "\t Chicago O'hare Intl    & Tulsa Intl                  \\\\\n",
       "\t Chicago O'hare Intl    & Norfolk Intl                \\\\\n",
       "\t Chicago O'hare Intl    & Tucson Intl                 \\\\\n",
       "\t Syracuse Hancock Intl  & Chicago O'hare Intl         \\\\\n",
       "\t Bangor Intl            & Chicago O'hare Intl         \\\\\n",
       "\t Greater Rochester Intl & Chicago O'hare Intl         \\\\\n",
       "\t Chicago O'hare Intl    & Theodore Francis Green State\\\\\n",
       "\t Chicago O'hare Intl    & Louisville Intl             \\\\\n",
       "\t Chicago O'hare Intl    & Sarasota/Bradenton Intl     \\\\\n",
       "\t Chicago O'hare Intl    & Richmond Intll              \\\\\n",
       "\t Chicago O'hare Intl    & Mc Ghee Tyson               \\\\\n",
       "\\end{tabular}\n"
      ],
      "text/markdown": [
       "\n",
       "A matrix: 11 × 2 of type chr\n",
       "\n",
       "| Chicago O'hare Intl    | Tulsa Intl                   |\n",
       "| Chicago O'hare Intl    | Norfolk Intl                 |\n",
       "| Chicago O'hare Intl    | Tucson Intl                  |\n",
       "| Syracuse Hancock Intl  | Chicago O'hare Intl          |\n",
       "| Bangor Intl            | Chicago O'hare Intl          |\n",
       "| Greater Rochester Intl | Chicago O'hare Intl          |\n",
       "| Chicago O'hare Intl    | Theodore Francis Green State |\n",
       "| Chicago O'hare Intl    | Louisville Intl              |\n",
       "| Chicago O'hare Intl    | Sarasota/Bradenton Intl      |\n",
       "| Chicago O'hare Intl    | Richmond Intll               |\n",
       "| Chicago O'hare Intl    | Mc Ghee Tyson                |\n",
       "\n"
      ],
      "text/plain": [
       "      [,1]                   [,2]                        \n",
       " [1,] Chicago O'hare Intl    Tulsa Intl                  \n",
       " [2,] Chicago O'hare Intl    Norfolk Intl                \n",
       " [3,] Chicago O'hare Intl    Tucson Intl                 \n",
       " [4,] Syracuse Hancock Intl  Chicago O'hare Intl         \n",
       " [5,] Bangor Intl            Chicago O'hare Intl         \n",
       " [6,] Greater Rochester Intl Chicago O'hare Intl         \n",
       " [7,] Chicago O'hare Intl    Theodore Francis Green State\n",
       " [8,] Chicago O'hare Intl    Louisville Intl             \n",
       " [9,] Chicago O'hare Intl    Sarasota/Bradenton Intl     \n",
       "[10,] Chicago O'hare Intl    Richmond Intll              \n",
       "[11,] Chicago O'hare Intl    Mc Ghee Tyson               "
      ]
     },
     "metadata": {},
     "output_type": "display_data"
    }
   ],
   "source": [
    "ends(usair,20)   #outputs the edge ID at index 20\n",
    "#E(usair)[20]    #outputs the edge at index 20\n",
    "head_of(usair,1)\n",
    "tail_of(usair,1)\n",
    "ends(usair,20:30)"
   ]
  },
  {
   "cell_type": "markdown",
   "metadata": {},
   "source": [
    "### Density"
   ]
  },
  {
   "cell_type": "code",
   "execution_count": 7,
   "metadata": {},
   "outputs": [
    {
     "data": {
      "text/html": [
       "0.0386925344884068"
      ],
      "text/latex": [
       "0.0386925344884068"
      ],
      "text/markdown": [
       "0.0386925344884068"
      ],
      "text/plain": [
       "[1] 0.03869253"
      ]
     },
     "metadata": {},
     "output_type": "display_data"
    },
    {
     "data": {
      "text/html": [
       "0.0385763406911443"
      ],
      "text/latex": [
       "0.0385763406911443"
      ],
      "text/markdown": [
       "0.0385763406911443"
      ],
      "text/plain": [
       "[1] 0.03857634"
      ]
     },
     "metadata": {},
     "output_type": "display_data"
    }
   ],
   "source": [
    "graph.density(usair)   #0.03869253 (number of edges/(N(N-1)/2))\n",
    "ecount(usair)/((vcount(usair)*vcount(usair)-1)/2)   \n",
    "#It's not mapping properly"
   ]
  },
  {
   "cell_type": "markdown",
   "metadata": {},
   "source": [
    "### Degree"
   ]
  },
  {
   "cell_type": "code",
   "execution_count": 8,
   "metadata": {},
   "outputs": [
    {
     "data": {
      "text/html": [
       "12.8072289156626"
      ],
      "text/latex": [
       "12.8072289156626"
      ],
      "text/markdown": [
       "12.8072289156626"
      ],
      "text/plain": [
       "[1] 12.80723"
      ]
     },
     "metadata": {},
     "output_type": "display_data"
    }
   ],
   "source": [
    "us_deg <- degree(usair)\n",
    "mean(us_deg)     #12.80723"
   ]
  },
  {
   "cell_type": "markdown",
   "metadata": {},
   "source": [
    "### Weighted Degree"
   ]
  },
  {
   "cell_type": "code",
   "execution_count": 9,
   "metadata": {},
   "outputs": [
    {
     "data": {
      "text/html": [
       "0.924014457831325"
      ],
      "text/latex": [
       "0.924014457831325"
      ],
      "text/markdown": [
       "0.924014457831325"
      ],
      "text/plain": [
       "[1] 0.9240145"
      ]
     },
     "metadata": {},
     "output_type": "display_data"
    },
    {
     "data": {
      "image/png": "[encoded data removed]",
      "text/plain": [
       "plot without title"
      ]
     },
     "metadata": {},
     "output_type": "display_data"
    }
   ],
   "source": [
    "us_str <- strength(usair)\n",
    "mean(us_str)     #0.9240145\n",
    "plot(us_str,us_deg)    #Plot of strength degree vs normal degree (Is the relation linear?)"
   ]
  },
  {
   "cell_type": "markdown",
   "metadata": {},
   "source": [
    "### Degree Distribution"
   ]
  },
  {
   "cell_type": "code",
   "execution_count": 10,
   "metadata": {},
   "outputs": [
    {
     "data": {
      "image/png": "[encoded data removed]",
      "text/plain": [
       "plot without title"
      ]
     },
     "metadata": {},
     "output_type": "display_data"
    }
   ],
   "source": [
    "dd <- degree_distribution(usair)\n",
    "plot(dd,type='l')\n",
    "#plot(degree_distribution(usair),type=\"l\") #Same, except will show degree distribution label on y axis"
   ]
  },
  {
   "cell_type": "markdown",
   "metadata": {},
   "source": [
    "### Distance"
   ]
  },
  {
   "cell_type": "code",
   "execution_count": 11,
   "metadata": {},
   "outputs": [
    {
     "data": {
      "text/html": [
       "<table>\n",
       "<caption>A matrix: 1 × 332 of type dbl</caption>\n",
       "<thead>\n",
       "\t<tr><th></th><th scope=col>Wiley Post-Will Rogers Mem</th><th scope=col>Deadhorse</th><th scope=col>Ralph Wien Memorial</th><th scope=col>Fairbanks Intl</th><th scope=col>Nome</th><th scope=col>St Mary's</th><th scope=col>Aniak</th><th scope=col>Anchorage Intl</th><th scope=col>Tuluksak</th><th scope=col>Akiachak</th><th scope=col>...</th><th scope=col>Eugenio Maria De Hostos</th><th scope=col>Mercedita</th><th scope=col>Alexander Hamilton</th><th scope=col>Johnston Atoll</th><th scope=col>Saipan Intl</th><th scope=col>Rota Intl</th><th scope=col>Guam Intll</th><th scope=col>Babelthuap/Koror</th><th scope=col>Pago Pago Intl</th><th scope=col>West Tinian</th></tr>\n",
       "</thead>\n",
       "<tbody>\n",
       "\t<tr><th scope=row>Nome</th><td>0.1875</td><td>0.1715</td><td>0.0269</td><td>0.1214</td><td>0</td><td>0.1532</td><td>0.1337</td><td>0.0849</td><td>0.1506</td><td>0.1476</td><td>...</td><td>0.6823</td><td>0.6772</td><td>0.6856</td><td>0.5414</td><td>0.7852</td><td>0.7759</td><td>0.7689</td><td>0.8473</td><td>0.8146</td><td>0.7865</td></tr>\n",
       "</tbody>\n",
       "</table>\n"
      ],
      "text/latex": [
       "A matrix: 1 × 332 of type dbl\n",
       "\\begin{tabular}{r|llllllllllllllllllllllllllllllllllllllllllllllllllllllllllllllllllllllllllllllllllllllllllllllllllllllllllllllllllllllllllllllllllllllllllllllllllllllllllllllllllllllllllllllllllllllllllllllllllllllllllllllllllllllllllllllllllllllllllllllllllllllllllllllllllllllllllllllllllllllllllllllllllllllllllllllllllllllllllllllllllllllllllll}\n",
       "  & Wiley Post-Will Rogers Mem & Deadhorse & Ralph Wien Memorial & Fairbanks Intl & Nome & St Mary's & Aniak & Anchorage Intl & Tuluksak & Akiachak & Akiak & Kwethluk & Bethel & Napaskiak & Napakiak & Merle K (Mudhole) Smith & Tuntutuliak & Eek & Kongiganak & Kwigillingok & Quinhagak & Yakutat & Dillingham & King Salmon & Gustavus & Juneau Intl & Kodiak & St Paul Island & Sitka & Port Heiden & James A Johnson Petersburg & Wrangell & Ketchikan Intl & Sand Point & Cold Bay & Unalaska & Eareckson As & Adak Naf & Bellingham Intl & Glacier Park Intl & Minot Intl & William R Fairchild Intl & Grand Forks Afb & Grand Forks Intl & Spokane Intl & Great Falls Intl & Seattle-Tacoma Intl & Pangborn Memorial & Grant County & Missoula Intll & Hector Intll & Duluth Intl & Bismarck Muni & Pullman/Moscow Regional & Helena Regional & Yakima Air Terminal & Marquette County & Lewiston-Nez Perce County & Tri-Cities & Walla Walla Regional & Bert Mooney & Billings Logan Intl & Gallatin Field & Eastern Oregon Regional At Pen & Portland Intl & Mcnary Fld & Minneapolis-St Paul Intl/Wold- & Bangor Intl & Central Wisconsin & Cherry Capital & Austin Straubel Intll & Burlington Intl & Outagamie County & Roberts Field & Mahlon Sweet Field & Rapid City Regional & Wittman Regional & Rochester Intll & La Crosse Muni & Portland Intl Jetport & Jackson Hole & Joe Foss Field & Boise Air Terminal /Gowen Fld/ & Mbs Intll & Fanning Field & Friedman Memorial & North Bend Muni & Muskegon County & Oneida County & Dane County Regional-Truax Fie & Greater Rochester Intl & Syracuse Hancock Intl & Bishop Intll & General Mitchell Intll & Greater Buffalo Intl & Manchester & Pocatello Regional & Natrona County Intl & Kent County Intl & Capital City & Albany County & Waterloo Muni & Tompkins County & Twin Falls-Sun Valley Regional & Detroit City & Sioux Gateway & Dubuque Regional & Rogue Valley Intl- M & General Edward Lawrence Logan & Worcester Muni & Kalamazoo/Battle Creek Interna & Detroit Metropolitan Wayne Cou & Binghamton Regional/Edwin A Li & Greater Rockford & Elmira/Corning Regional & Klamath Falls Intll & Erie Intl & Chicago O'hare Intl & Bradley Intl & Cedar Rapids Muni & William B. Heilig Field & Merrill C Meigs & Chicago Midway & Jack Mc Namara Field & Theodore Francis Green State & Michiana Rgnl Transportation C & Toledo Express & Des Moines Intl & Stewart Int'l & Quad-City & Cleveland-Hopkins Intl & Wilkes-Barre/Scranton Intl & Eppley Airfield & Tweed-New Haven & Youngstown-Warren Regional & Westchester County & Fort Wayne Intll & Arcata & Akron-Canton Regional & Lincoln Muni & University Park & Elko Muni-J.C. Harris Field & Long Island Mac Arthur & Salt Lake City Intl & Burlington Regional & La Guardia & Newark Intl & Greater Peoria Regional & Lehigh Valley Intll & John F Kennedy Intl & Redding Muni & Pittsburgh Intll & Yampa Valley & Bloomington/Normal & Purdue University & Mercer County & Harrisburg Intll & University Of Illinois-Willard & Port Columbus Intl & Quincy Muni Baldwin Field & James M Cox Dayton Intl & Philadelphia Intl & Capital & Decatur & Chico Muni & Stapleton Intl & Indianapolis Intl & Eagle County Regional & Reno/Tahoe Intll & Atlantic City Intll & Hulman Regional & Kansas City Intl & Aspen-Pitkin Co/Sardy Field & Baltimore-Washington Intl & Walker Field & Cincinnati/Northern Kentucky I & Washington Dulles Intl & Lake Tahoe & Washington National & Columbia Regional & City Of Colorado Springs Muni & Lambert-St Louis Intl & Sacramento Metropolitan & Gunnison County & Sonoma County & Yeager & Tri-State/Milton J.Ferguson Fi & Pueblo Memorial & Louisville Intl & Charlottesville-Albemarle & Evansville Regional & Blue Grass & Stockton Metropolitan & Greenbrier Valley & Williamson County Regional & Forney Aaf & Metropolitan Oakland Intl & Wichita Mid-Continent & Modesto City-County--Harry Sha & Mammoth Lakes & San Francisco Intl & Richmond Intll & San Jose Intll & Roanoke Regional/Woodrum Field & Merced Municipal/Macready Fiel & Springfield Regional & Cape Girardeau Regional & Durango-La Plata County & Joplin Regional & Newport News/Williamsburg Inte & Barkley Regional & Norfolk Intl & Fresno Air Terminal & Monterey Peninsula & Tri-Cities Regional Tn/Va & Tulsa Intl & Nashville Intll & Piedmont Triad Intll & Mc Carran Intl & Drake Field & Raleigh-Durham Intll & Mc Ghee Tyson & Asheville Regional & Meadows Field & Will Rogers World & Fort Smith Regional & Kinston Regional Jetport At St & San Luis Obispo County-Mc Ches & Amarillo Intl & Charlotte/Douglas Intl & Flagstaff Pulliam & Memphis Intl & Albuquerque Intl & Lovell Field & Fayetteville Regional/Grannis & Santa Maria Pub/Capt G Allan H & Greenville-Spartanburg & Albert J Ellis & Adams Field & Huntsville Intl-Carl T Jones F & Lawton Muni & Santa Barbara Muni & New Hanover Intll & Oxnard & Burbank-Glendale-Pasadena & Ontario Intl & Sheppard Afb/Wichita Falls Mun & Los Angeles Intl & Columbia Metropolitan & Palm Springs Regional & Long Beach /Daugherty Field/ & Myrtle Beach Intl & John Wayne Airport-Orange Coun & Lubbock Intl & The William B Hartsfield Atlan & Birmingham Intl & Texarkana Regional-Webb Field & Phoenix Sky Harbor Intl & Bush Field & Charleston Afb/Intl & Dallas/Fort Worth Intl & Dallas Love Field & San Diego Intl-Lindbergh Fld & Yuma Mcas/Yuma Intl & Columbus Metropolitan & Monroe Regional & Shreveport Regional & Abilene Regional & Gregg County & Tyler Pounds Field & Jackson Intll & Dannelly Field & Savannah Intll & Tucson Intl & Midland Intll & El Paso Intl & Waco Regional & Alexandria Esler Regional & Mathis Field & Killeen Muni & Mobile Regional & Easterwood Field & Baton Rouge Metropolitan, Ryan & Jacksonville Intl & Eglin Afb & Pensacola Regional & Tallahassee Regional & Robert Mueller Muni & Panama City-Bay Co Intl & Lafayette Regional & Lake Charles Regional & New Orleans Intl/Moisant Fld/ & Houston Intercontinental & Jefferson County & Gainesville Regional & William P Hobby & San Antonio Intl & Daytona Beach Intl & Orlando Intl & Melbourne Intll & Tampa Intl & St Petersburg/Clearwater Intl & Corpus Christi Intl & Laredo Intl & Sarasota/Bradenton Intl & Palm Beach Intl & Southwest Florida Intl & Rio Grande Valley Intl & Mc Allen Miller Intl & Fort Lauderdale/Hollywood Intl & Miami Intl & Lihue & Honolulu Intl & Molokai & Kapalua & Kahului & Lanai & Keahole-Kona Intll & Hilo Intll & Rafael Hernandez & Luis Munoz Marin Intl & Cyril E King & Eugenio Maria De Hostos & Mercedita & Alexander Hamilton & Johnston Atoll & Saipan Intl & Rota Intl & Guam Intll & Babelthuap/Koror & Pago Pago Intl & West Tinian\\\\\n",
       "\\hline\n",
       "\tNome & 0.1875 & 0.1715 & 0.0269 & 0.1214 & 0 & 0.1532 & 0.1337 & 0.0849 & 0.1506 & 0.1476 & 0.1486 & 0.1473 & 0.1453 & 0.1462 & 0.1464 & 0.1088 & 0.1513 & 0.1508 & 0.1548 & 0.1565 & 0.1551 & 0.1399 & 0.1327 & 0.1263 & 0.1736 & 0.1679 & 0.12 & 0.1948 & 0.181 & 0.1445 & 0.1849 & 0.1892 & 0.2001 & 0.1623 & 0.1712 & 0.1942 & 0.2848 & 0.2471 & 0.2905 & 0.3199 & 0.4549 & 0.2864 & 0.4497 & 0.4489 & 0.3019 & 0.3333 & 0.2775 & 0.2882 & 0.2929 & 0.3206 & 0.44 & 0.4327 & 0.4404 & 0.3048 & 0.3318 & 0.2897 & 0.4592 & 0.3063 & 0.2972 & 0.3017 & 0.3321 & 0.3508 & 0.3389 & 0.3029 & 0.2889 & 0.2957 & 0.4133 & 0.5477 & 0.4479 & 0.4791 & 0.4395 & 0.5292 & 0.4425 & 0.3036 & 0.3032 & 0.4146 & 0.4448 & 0.4233 & 0.4271 & 0.5343 & 0.3538 & 0.4352 & 0.3258 & 0.4749 & 0.3469 & 0.333 & 0.3112 & 0.4646 & 0.5522 & 0.4391 & 0.495 & 0.5028 & 0.4716 & 0.446 & 0.4893 & 0.5348 & 0.3453 & 0.3942 & 0.4568 & 0.4669 & 0.5145 & 0.4503 & 0.5187 & 0.3394 & 0.4787 & 0.4425 & 0.459 & 0.3196 & 0.5289 & 0.5374 & 0.4598 & 0.4696 & 0.5187 & 0.4569 & 0.5149 & 0.322 & 0.5068 & 0.4504 & 0.5215 & 0.443 & 0.409 & 0.4931 & 0.4539 & 0.3878 & 0.5305 & 0.4589 & 0.4716 & 0.4454 & 0.5208 & 0.4503 & 0.48 & 0.5159 & 0.4406 & 0.5237 & 0.4898 & 0.5191 & 0.4672 & 0.3802 & 0.4848 & 0.4351 & 0.5166 & 0.3461 & 0.5238 & 0.3595 & 0.4574 & 0.5194 & 0.5183 & 0.4589 & 0.5126 & 0.5202 & 0.3374 & 0.4916 & 0.4062 & 0.4656 & 0.4661 & 0.5193 & 0.5083 & 0.4683 & 0.4821 & 0.4651 & 0.4777 & 0.5166 & 0.4711 & 0.4715 & 0.3713 & 0.3925 & 0.4735 & 0.3875 & 0.3489 & 0.5215 & 0.4755 & 0.4381 & 0.4039 & 0.5136 & 0.412 & 0.4829 & 0.511 & 0.3674 & 0.5132 & 0.4696 & 0.4011 & 0.4601 & 0.3549 & 0.4083 & 0.3591 & 0.4975 & 0.5151 & 0.4061 & 0.4842 & 0.5202 & 0.476 & 0.4901 & 0.3566 & 0.5456 & 0.4719 & 0.4734 & 0.3514 & 0.4356 & 0.3575 & 0.3753 & 0.3503 & 0.5192 & 0.3536 & 0.5104 & 0.3602 & 0.4559 & 0.4752 & 0.4581 & 0.4617 & 0.5289 & 0.4782 & 0.5273 & 0.366 & 0.3606 & 0.5316 & 0.4497 & 0.489 & 0.5197 & 0.3873 & 0.4928 & 0.5249 & 0.503 & 0.5267 & 0.3771 & 0.4485 & 0.4937 & 0.5353 & 0.3747 & 0.4356 & 0.5183 & 0.4329 & 0.4803 & 0.4185 & 0.525 & 0.5291 & 0.378 & 0.5254 & 0.5357 & 0.4731 & 0.4972 & 0.4841 & 0.3834 & 0.5362 & 0.3956 & 0.3888 & 0.3922 & 0.4794 & 0.3908 & 0.5282 & 0.3972 & 0.3926 & 0.5362 & 0.3944 & 0.4462 & 0.5111 & 0.5021 & 0.483 & 0.4165 & 0.5239 & 0.5345 & 0.4666 & 0.4691 & 0.4039 & 0.4316 & 0.5222 & 0.4923 & 0.4835 & 0.4809 & 0.4793 & 0.4763 & 0.5024 & 0.5143 & 0.533 & 0.4299 & 0.4557 & 0.4479 & 0.4788 & 0.4946 & 0.4895 & 0.4842 & 0.5161 & 0.4889 & 0.5041 & 0.5443 & 0.5273 & 0.5219 & 0.5421 & 0.4835 & 0.5445 & 0.5029 & 0.4994 & 0.5107 & 0.4926 & 0.4986 & 0.5505 & 0.4958 & 0.4871 & 0.5571 & 0.5543 & 0.5625 & 0.5528 & 0.5878 & 0.5156 & 0.5192 & 0.5571 & 0.5703 & 0.5653 & 0.519 & 0.5311 & 0.5744 & 0.5751 & 0.4774 & 0.4678 & 0.4723 & 0.475 & 0.4763 & 0.4749 & 0.4857 & 0.489 & 0.6719 & 0.6762 & 0.6808 & 0.6823 & 0.6772 & 0.6856 & 0.5414 & 0.7852 & 0.7759 & 0.7689 & 0.8473 & 0.8146 & 0.7865\\\\\n",
       "\\end{tabular}\n"
      ],
      "text/markdown": [
       "\n",
       "A matrix: 1 × 332 of type dbl\n",
       "\n",
       "| <!--/--> | Wiley Post-Will Rogers Mem | Deadhorse | Ralph Wien Memorial | Fairbanks Intl | Nome | St Mary's | Aniak | Anchorage Intl | Tuluksak | Akiachak | ... | Eugenio Maria De Hostos | Mercedita | Alexander Hamilton | Johnston Atoll | Saipan Intl | Rota Intl | Guam Intll | Babelthuap/Koror | Pago Pago Intl | West Tinian |\n",
       "|---|---|---|---|---|---|---|---|---|---|---|---|---|---|---|---|---|---|---|---|---|---|\n",
       "| Nome | 0.1875 | 0.1715 | 0.0269 | 0.1214 | 0 | 0.1532 | 0.1337 | 0.0849 | 0.1506 | 0.1476 | ... | 0.6823 | 0.6772 | 0.6856 | 0.5414 | 0.7852 | 0.7759 | 0.7689 | 0.8473 | 0.8146 | 0.7865 |\n",
       "\n"
      ],
      "text/plain": [
       "     Wiley Post-Will Rogers Mem Deadhorse Ralph Wien Memorial Fairbanks Intl\n",
       "Nome 0.1875                     0.1715    0.0269              0.1214        \n",
       "     Nome St Mary's Aniak  Anchorage Intl Tuluksak Akiachak ...\n",
       "Nome 0    0.1532    0.1337 0.0849         0.1506   0.1476   ...\n",
       "     Eugenio Maria De Hostos Mercedita Alexander Hamilton Johnston Atoll\n",
       "Nome 0.6823                  0.6772    0.6856             0.5414        \n",
       "     Saipan Intl Rota Intl Guam Intll Babelthuap/Koror Pago Pago Intl\n",
       "Nome 0.7852      0.7759    0.7689     0.8473           0.8146        \n",
       "     West Tinian\n",
       "Nome 0.7865     "
      ]
     },
     "metadata": {},
     "output_type": "display_data"
    },
    {
     "data": {
      "text/html": [
       "0.9623"
      ],
      "text/latex": [
       "0.9623"
      ],
      "text/markdown": [
       "0.9623"
      ],
      "text/plain": [
       "[1] 0.9623"
      ]
     },
     "metadata": {},
     "output_type": "display_data"
    },
    {
     "data": {
      "text/html": [
       "2.73812470425509"
      ],
      "text/latex": [
       "2.73812470425509"
      ],
      "text/markdown": [
       "2.73812470425509"
      ],
      "text/plain": [
       "[1] 2.738125"
      ]
     },
     "metadata": {},
     "output_type": "display_data"
    }
   ],
   "source": [
    "distances(usair,v=5)  #http://igraph.org/r/doc/distances.html\n",
    "max(distances(usair)) #0.9623\n",
    "mean_distance(usair)  #2.738125 - A small world"
   ]
  },
  {
   "cell_type": "markdown",
   "metadata": {},
   "source": [
    "### Closeness\n",
    "#### Degree-Closeness plot"
   ]
  },
  {
   "cell_type": "code",
   "execution_count": 12,
   "metadata": {},
   "outputs": [
    {
     "data": {
      "text/html": [
       "<strong>Nome:</strong> 0.000946073793755913"
      ],
      "text/latex": [
       "\\textbf{Nome:} 0.000946073793755913"
      ],
      "text/markdown": [
       "**Nome:** 0.000946073793755913"
      ],
      "text/plain": [
       "        Nome \n",
       "0.0009460738 "
      ]
     },
     "metadata": {},
     "output_type": "display_data"
    },
    {
     "data": {
      "text/html": [
       "<strong>Nome:</strong> 1057"
      ],
      "text/latex": [
       "\\textbf{Nome:} 1057"
      ],
      "text/markdown": [
       "**Nome:** 1057"
      ],
      "text/plain": [
       "Nome \n",
       "1057 "
      ]
     },
     "metadata": {},
     "output_type": "display_data"
    },
    {
     "data": {
      "text/html": [
       "1057"
      ],
      "text/latex": [
       "1057"
      ],
      "text/markdown": [
       "1057"
      ],
      "text/plain": [
       "[1] 1057"
      ]
     },
     "metadata": {},
     "output_type": "display_data"
    },
    {
     "data": {
      "image/png": "[encoded data removed]",
      "text/plain": [
       "plot without title"
      ]
     },
     "metadata": {},
     "output_type": "display_data"
    }
   ],
   "source": [
    "#closeness(usair, weights = rep(1,ecount(usair)))     #Closeness for all nodes\n",
    "closeness(usair,vids=5,weights=rep(1,ecount(usair)))  #Closeness for vertex id 5\n",
    "#rep is a replicate function which replicates 1 ecount times\n",
    "1/closeness(usair,vids=5,weights=rep(1,ecount(usair)))\n",
    "sum(distances(usair,v=5,weights=rep(1,ecount(usair))))\n",
    "\n",
    "plot(us_deg, closeness(usair, weights = rep(1,ecount(usair))))  #Degree-Closeness plot\n",
    "#plot(log(us_deg), closeness(usair, weights = rep(1,ecount(usair))))  #log(Degree)-Closeness plot"
   ]
  },
  {
   "cell_type": "markdown",
   "metadata": {},
   "source": [
    "#### Closeness-Degree plot"
   ]
  },
  {
   "cell_type": "code",
   "execution_count": 13,
   "metadata": {},
   "outputs": [
    {
     "data": {
      "text/html": [
       "<strong>Nome:</strong> 0.00688433084992572"
      ],
      "text/latex": [
       "\\textbf{Nome:} 0.00688433084992572"
      ],
      "text/markdown": [
       "**Nome:** 0.00688433084992572"
      ],
      "text/plain": [
       "       Nome \n",
       "0.006884331 "
      ]
     },
     "metadata": {},
     "output_type": "display_data"
    },
    {
     "data": {
      "text/html": [
       "<strong>Nome:</strong> 0.000946073793755913"
      ],
      "text/latex": [
       "\\textbf{Nome:} 0.000946073793755913"
      ],
      "text/markdown": [
       "**Nome:** 0.000946073793755913"
      ],
      "text/plain": [
       "        Nome \n",
       "0.0009460738 "
      ]
     },
     "metadata": {},
     "output_type": "display_data"
    },
    {
     "data": {
      "text/html": [
       "<strong>Nome:</strong> 145.2574"
      ],
      "text/latex": [
       "\\textbf{Nome:} 145.2574"
      ],
      "text/markdown": [
       "**Nome:** 145.2574"
      ],
      "text/plain": [
       "    Nome \n",
       "145.2574 "
      ]
     },
     "metadata": {},
     "output_type": "display_data"
    },
    {
     "data": {
      "text/html": [
       "142.8078"
      ],
      "text/latex": [
       "142.8078"
      ],
      "text/markdown": [
       "142.8078"
      ],
      "text/plain": [
       "[1] 142.8078"
      ]
     },
     "metadata": {},
     "output_type": "display_data"
    },
    {
     "data": {
      "image/png": "[encoded data removed]",
      "text/plain": [
       "plot without title"
      ]
     },
     "metadata": {},
     "output_type": "display_data"
    }
   ],
   "source": [
    "c1 = closeness(usair,weights=rep(1,ecount(usair)))\n",
    "closeness(usair,vids=5)                               #0.006884331\n",
    "closeness(usair,vids=5,weights=rep(1,ecount(usair)))  #0.0009460738\n",
    "1/closeness(usair,vids=5)\n",
    "sum(distances(usair,v=5))\n",
    "plot(c1,us_deg)   #Closeness-Degree plot"
   ]
  },
  {
   "cell_type": "markdown",
   "metadata": {},
   "source": [
    "### Betweenness\n",
    "#### Degree-Betweenness plot"
   ]
  },
  {
   "cell_type": "code",
   "execution_count": 14,
   "metadata": {},
   "outputs": [
    {
     "data": {
      "text/html": [
       "0.726740075262469"
      ],
      "text/latex": [
       "0.726740075262469"
      ],
      "text/markdown": [
       "0.726740075262469"
      ],
      "text/plain": [
       "[1] 0.7267401"
      ]
     },
     "metadata": {},
     "output_type": "display_data"
    },
    {
     "data": {
      "text/plain": [
       "+ 1/1 vertex, named, from 8e6c88a:\n",
       "[1] Anchorage Intl"
      ]
     },
     "metadata": {},
     "output_type": "display_data"
    },
    {
     "data": {
      "image/png": "[encoded data removed]",
      "text/plain": [
       "plot without title"
      ]
     },
     "metadata": {},
     "output_type": "display_data"
    }
   ],
   "source": [
    "us_betw <- betweenness(usair,directed=FALSE)  #FALSE, not False!\n",
    "cor(us_deg,us_betw)    #0.7267401 (Correlation between Degree & Betweenness)\n",
    "plot(us_deg,us_betw)   #Degree-Betwwnness plot\n",
    "text(us_deg,us_betw,V(usair)$id)   #Degree-Betwwnness plot with text\n",
    "\n",
    "#Identify node with high betweenness\n",
    "max_betw_usair <- induced_subgraph(usair,which(us_betw==max(us_betw)),impl='auto')\n",
    "V(max_betw_usair)  #Returns the node with max betweenness"
   ]
  },
  {
   "cell_type": "markdown",
   "metadata": {},
   "source": [
    "#### Degree-Betweenness plot (unweighted edges - all edges set to unity)"
   ]
  },
  {
   "cell_type": "code",
   "execution_count": 15,
   "metadata": {},
   "outputs": [
    {
     "data": {
      "text/html": [
       "0.704375565722283"
      ],
      "text/latex": [
       "0.704375565722283"
      ],
      "text/markdown": [
       "0.704375565722283"
      ],
      "text/plain": [
       "[1] 0.7043756"
      ]
     },
     "metadata": {},
     "output_type": "display_data"
    },
    {
     "data": {
      "image/png": "[encoded data removed]",
      "text/plain": [
       "plot without title"
      ]
     },
     "metadata": {},
     "output_type": "display_data"
    }
   ],
   "source": [
    "us_betunw <- betweenness(usair,directed=FALSE,weights=rep(1,ecount(usair)))  #Same as above, but with weights set to unity\n",
    "cor(us_deg,us_betunw)  #0.7043756\n",
    "plot(us_deg,us_betunw) #Degree-Betwwnness plot with weights set to Unity\n",
    "text(us_deg,us_betunw,V(usair)$id)"
   ]
  },
  {
   "cell_type": "markdown",
   "metadata": {},
   "source": [
    "#### Betweenness unweighted (unity weights)-Betweenness weighted plot"
   ]
  },
  {
   "cell_type": "code",
   "execution_count": 16,
   "metadata": {},
   "outputs": [
    {
     "data": {
      "image/png": "[encoded data removed]",
      "text/plain": [
       "plot without title"
      ]
     },
     "metadata": {},
     "output_type": "display_data"
    }
   ],
   "source": [
    "plot(us_betunw,us_betw) #Betweenness unweighted (unity weights)-Betweenness weighted plot \n",
    "text(us_betunw,us_betw,V(usair)$id) "
   ]
  },
  {
   "cell_type": "markdown",
   "metadata": {},
   "source": [
    "#### Strength-Betweenness plot"
   ]
  },
  {
   "cell_type": "code",
   "execution_count": 17,
   "metadata": {},
   "outputs": [
    {
     "data": {
      "image/png": "[encoded data removed]",
      "text/plain": [
       "plot without title"
      ]
     },
     "metadata": {},
     "output_type": "display_data"
    }
   ],
   "source": [
    "plot(us_str,us_betw)   #Strength-Betweenness plot\n",
    "text(us_str,us_betw,V(usair)$id)"
   ]
  },
  {
   "cell_type": "markdown",
   "metadata": {},
   "source": [
    "#### Set weight of edges equal to the distance (distance is the inverse of weight measure)\n",
    "#### Betweenness(unweighted)-Betweenness(distance weighted) plot"
   ]
  },
  {
   "cell_type": "code",
   "execution_count": 18,
   "metadata": {},
   "outputs": [
    {
     "data": {
      "text/html": [
       "0.914420561614469"
      ],
      "text/latex": [
       "0.914420561614469"
      ],
      "text/markdown": [
       "0.914420561614469"
      ],
      "text/plain": [
       "[1] 0.9144206"
      ]
     },
     "metadata": {},
     "output_type": "display_data"
    },
    {
     "data": {
      "image/png": "[encoded data removed]",
      "text/plain": [
       "plot without title"
      ]
     },
     "metadata": {},
     "output_type": "display_data"
    }
   ],
   "source": [
    "E(usair)$dist = 1/E(usair)$weight  #Set the parameter distance equal to inverse of weights\n",
    "us_dist_betw <- betweenness(usair,directed=FALSE,weights=E(usair)$dist)  #Weights of edge equal to distance\n",
    "cor(us_betunw,us_dist_betw)  #0.9144206  -- Correlation between unweighted betweenness and weighted (distance) betweenness\n",
    "plot(us_betunw,us_dist_betw) #Betweenness(unweighted)-Betweenness(distance weighted) plot\n",
    "text(us_betunw,us_dist_betw,V(usair)$id)"
   ]
  },
  {
   "cell_type": "code",
   "execution_count": 19,
   "metadata": {},
   "outputs": [],
   "source": [
    "#plot(log(us_deg), closeness(usair))\n",
    "#plot(log(us_deg), closeness(usair, weights = E(usair)$dist))"
   ]
  },
  {
   "cell_type": "markdown",
   "metadata": {},
   "source": [
    "### Pagerank\n",
    "#### PageRank-Betweenness plot"
   ]
  },
  {
   "cell_type": "code",
   "execution_count": 20,
   "metadata": {},
   "outputs": [
    {
     "data": {
      "text/html": [
       "0.948020463799348"
      ],
      "text/latex": [
       "0.948020463799348"
      ],
      "text/markdown": [
       "0.948020463799348"
      ],
      "text/plain": [
       "[1] 0.9480205"
      ]
     },
     "metadata": {},
     "output_type": "display_data"
    },
    {
     "data": {
      "text/html": [
       "0.833465412565603"
      ],
      "text/latex": [
       "0.833465412565603"
      ],
      "text/markdown": [
       "0.833465412565603"
      ],
      "text/plain": [
       "[1] 0.8334654"
      ]
     },
     "metadata": {},
     "output_type": "display_data"
    },
    {
     "data": {
      "image/png": "[encoded data removed]",
      "text/plain": [
       "plot without title"
      ]
     },
     "metadata": {},
     "output_type": "display_data"
    }
   ],
   "source": [
    "us_prk <- page.rank(usair,directed=FALSE,damping=0.85)$vector\n",
    "cor(us_deg,us_prk)   #0.9480205\n",
    "cor(us_betw,us_prk)  #0.8334654\n",
    "plot(us_prk,us_betw) #PageRank-Betweenness plot\n",
    "text(us_prk,us_betw,V(usair)$id)"
   ]
  },
  {
   "cell_type": "markdown",
   "metadata": {},
   "source": [
    "### Subgraph \n",
    "Extract a subgraph from the graph given the condition. <br>\n",
    "The condition given here is: extract those nodes whoes degree measure is greater than the mean."
   ]
  },
  {
   "cell_type": "code",
   "execution_count": 21,
   "metadata": {},
   "outputs": [
    {
     "data": {
      "text/html": [
       "85"
      ],
      "text/latex": [
       "85"
      ],
      "text/markdown": [
       "85"
      ],
      "text/plain": [
       "[1] 85"
      ]
     },
     "metadata": {},
     "output_type": "display_data"
    },
    {
     "data": {
      "text/html": [
       "1311"
      ],
      "text/latex": [
       "1311"
      ],
      "text/markdown": [
       "1311"
      ],
      "text/plain": [
       "[1] 1311"
      ]
     },
     "metadata": {},
     "output_type": "display_data"
    }
   ],
   "source": [
    "sub_usair <- induced_subgraph(usair,which(us_deg>mean(us_deg)),impl='auto')\n",
    "#which(us_deg>mean(us_deg)) is the condition for selecting subgraph\n",
    "vcount(sub_usair)  #85\n",
    "ecount(sub_usair)  #1311"
   ]
  },
  {
   "cell_type": "markdown",
   "metadata": {},
   "source": [
    "### Shortest Path"
   ]
  },
  {
   "cell_type": "code",
   "execution_count": 22,
   "metadata": {},
   "outputs": [
    {
     "data": {
      "text/plain": [
       "+ 1/332 vertex, named, from 8c9f0ce:\n",
       "[1] Anchorage Intl"
      ]
     },
     "metadata": {},
     "output_type": "display_data"
    },
    {
     "data": {
      "text/plain": [
       "+ 6/332 vertices, named, from 8c9f0ce:\n",
       "[1] Nome                    Napakiak                Pueblo Memorial        \n",
       "[4] Waco Regional           Kahului                 Eugenio Maria De Hostos"
      ]
     },
     "metadata": {},
     "output_type": "display_data"
    }
   ],
   "source": [
    "sp <- get.shortest.paths(usair, 8, c(5,15, 188, 277, 316, 323) ,mode=\"all\", output=\"both\")\n",
    "#sp$epath\n",
    "V(usair)[8]                             #From - shortest path from nodes\n",
    "V(usair)[c(5,15, 188, 277, 316, 323)]   #To nodes\n",
    "# 8 = Anchorage Intl\n",
    "# 5 = Nome https://en.wikipedia.org/wiki/Nome_Airport\n",
    "# 15= Napakiak https://en.wikipedia.org/wiki/Napakiak,_Alaska  \n",
    "#188= Pueblo Memorial https://en.wikipedia.org/wiki/Pueblo_Memorial_Airport\n",
    "#277= Waco Regional https://en.wikipedia.org/wiki/Waco_Regional_Airport\n",
    "#316 Kahului https://en.wikipedia.org/wiki/Kahului_Airport\n",
    "#323= Eugenio Maria De Hostos https://en.wikipedia.org/wiki/Eugenio_Mar%C3%ADa_de_Hostos_Airport"
   ]
  },
  {
   "cell_type": "code",
   "execution_count": 23,
   "metadata": {},
   "outputs": [
    {
     "data": {
      "text/plain": [
       "+ 16/332 vertices, named, from 8c9f0ce:\n",
       " [1] Anchorage Intl                Nome                         \n",
       " [3] Bethel                        Napakiak                     \n",
       " [5] Salt Lake City Intl           City Of Colorado Springs Muni\n",
       " [7] Pueblo Memorial               Dallas/Fort Worth Intl       \n",
       " [9] Waco Regional                 Honolulu Intl                \n",
       "[11] Kapalua                       Kahului                      \n",
       "[13] Seattle-Tacoma Intl           Miami Intl                   \n",
       "[15] Luis Munoz Marin Intl         Eugenio Maria De Hostos      "
      ]
     },
     "metadata": {},
     "output_type": "display_data"
    }
   ],
   "source": [
    "#sp\n",
    "#sp$vpath\n",
    "#sp$epath\n",
    "#unlist(sp$vpath)\n",
    "#unique(unlist(sp$vpath))  #Returns the unique ids of all the airpots from source node to all six destination nodes\n",
    "V(usair)[unique(unlist(sp$vpath))]  #Same as above, but returns the airport names"
   ]
  },
  {
   "cell_type": "markdown",
   "metadata": {},
   "source": [
    "# Visualizations"
   ]
  },
  {
   "cell_type": "code",
   "execution_count": 24,
   "metadata": {},
   "outputs": [
    {
     "data": {
      "image/png": "[encoded data removed]",
      "text/plain": [
       "Plot with title \"\""
      ]
     },
     "metadata": {},
     "output_type": "display_data"
    }
   ],
   "source": [
    "plot(usair, layout=layout_with_fr,vertex.size=4,vertex.label=NA,vertex.color='red',edge.arrow.size=0.5)\n",
    "#layout_with_fr = Frutcherman-Reingold layout"
   ]
  },
  {
   "cell_type": "code",
   "execution_count": 25,
   "metadata": {},
   "outputs": [
    {
     "data": {
      "text/plain": [
       "+ 1/85 vertex, named, from 922de93:\n",
       "[1] Dallas Love Field"
      ]
     },
     "metadata": {},
     "output_type": "display_data"
    },
    {
     "data": {
      "text/plain": [
       "+ 1/332 vertex, named, from 8c9f0ce:\n",
       "[1] Mcnary Fld"
      ]
     },
     "metadata": {},
     "output_type": "display_data"
    },
    {
     "data": {
      "image/png": "[encoded data removed]",
      "text/plain": [
       "Plot with title \"\""
      ]
     },
     "metadata": {},
     "output_type": "display_data"
    }
   ],
   "source": [
    "#Same as above, but subgraphs are labeled here using the condition vertex.label=V(sub_usair)\n",
    "plot(usair, layout=layout_with_fr,vertex.size=4,vertex.label=V(sub_usair),vertex.color='red',edge.arrow.size=0.5)\n",
    "\n",
    "V(sub_usair)[66]  #[1] Dallas Love Field\n",
    "V(usair)[66]      #[1] Mcnary Fld"
   ]
  },
  {
   "cell_type": "code",
   "execution_count": 26,
   "metadata": {},
   "outputs": [],
   "source": [
    "#Generate edge color variable:\n",
    "ecol <- rep(\"gray80\",ecount(usair))  #All the 2126 edges are initially set to gray80 color\n",
    "ecol[unlist(sp$epath)] <- \"orange\"   #The shortest path edges are labeled orange\n",
    "\n",
    "#Generate edge width variable:\n",
    "ew <- rep(0.5,ecount(usair))        #All the 2126 edges are initially set to a width of 0.5\n",
    "ew[unlist(sp$epath)] <- 2           #The edges in the shortest path are set to a width of 2\n",
    "\n",
    "#Generate node color variable:\n",
    "vcol <- rep(\"gray80\",vcount(usair)) #All the 332 nodes are initially set to gray80 color\n",
    "vcol[unlist(sp$vpath)] <- \"gold\"    #The nodes in the shortest path are set to gold color\n",
    "\n",
    "#Generate node labels:\n",
    "vlab <- rep(\"\",vcount(usair))       #All the 332 nodes are initially set to blank\n",
    "vlab[unlist(sp$vpath)] <- unlist(sp$vpath)  #Only the nodes in shortest path are labeled\n",
    "\n",
    "#Generate node size variable:\n",
    "vw <- rep(0.5, vcount(usair))      #All the nodes are initially set to a width of 0.5\n",
    "vw[unlist(sp$vpath)] <- 4          #The nodes in the shortest path are set to a width of 4"
   ]
  },
  {
   "cell_type": "markdown",
   "metadata": {},
   "source": [
    "## Frutcherman-Reingold layout"
   ]
  },
  {
   "cell_type": "code",
   "execution_count": 27,
   "metadata": {},
   "outputs": [
    {
     "data": {
      "image/png": "[encoded data removed]",
      "text/plain": [
       "Plot with title \"\""
      ]
     },
     "metadata": {},
     "output_type": "display_data"
    }
   ],
   "source": [
    "plot(usair,layout=layout_with_fr,vertex.color=vcol,vertex.size=vw,vertex.label=vlab,\n",
    "     edge.color=ecol,edge.width=ew,edge.arrow.mode=0)\n",
    "#The above plot is a weighted plot with weights set to their natural edge weights"
   ]
  },
  {
   "cell_type": "code",
   "execution_count": 28,
   "metadata": {},
   "outputs": [
    {
     "data": {
      "image/png": "[encoded data removed]",
      "text/plain": [
       "Plot with title \"\""
      ]
     },
     "metadata": {},
     "output_type": "display_data"
    }
   ],
   "source": [
    "plot(usair,layout=layout_with_fr(usair,weight=NULL),vertex.color=vcol,vertex.size=vw,vertex.label=vlab,\n",
    "     edge.color=ecol,edge.width=ew,edge.arrow.mode=0)\n",
    "#Here the weights are set to unity/Null"
   ]
  },
  {
   "cell_type": "code",
   "execution_count": 29,
   "metadata": {},
   "outputs": [
    {
     "data": {
      "image/png": "[encoded data removed]",
      "text/plain": [
       "Plot with title \"\""
      ]
     },
     "metadata": {},
     "output_type": "display_data"
    }
   ],
   "source": [
    "plot(usair,layout=layout_with_fr(usair,weight=E(usair)$dist),vertex.color=vcol,vertex.size=vw,vertex.label=vlab,\n",
    "     edge.color=ecol,edge.width=ew,edge.arrow.mode=0)\n",
    "#Here the weights are set equal to the distance between nodes"
   ]
  },
  {
   "cell_type": "markdown",
   "metadata": {},
   "source": [
    "## Force-directed layout"
   ]
  },
  {
   "cell_type": "code",
   "execution_count": 30,
   "metadata": {},
   "outputs": [
    {
     "data": {
      "image/png": "[encoded data removed]",
      "text/plain": [
       "Plot with title \"\""
      ]
     },
     "metadata": {},
     "output_type": "display_data"
    }
   ],
   "source": [
    "plot(usair,layout=layout_with_drl,vertex.color=vcol,vertex.size=vw,vertex.label=vlab,\n",
    "     edge.color=ecol,edge.width=ew,edge.arrow.mode=0)\n",
    "#The above plot is a weighted plot with weights set to their natural edge weights"
   ]
  },
  {
   "cell_type": "code",
   "execution_count": 31,
   "metadata": {},
   "outputs": [
    {
     "data": {
      "image/png": "[encoded data removed]",
      "text/plain": [
       "Plot with title \"\""
      ]
     },
     "metadata": {},
     "output_type": "display_data"
    }
   ],
   "source": [
    "plot(usair,layout=layout_with_drl(usair,weight=NULL),vertex.color=vcol,vertex.size=vw,vertex.label=vlab,\n",
    "     edge.color=ecol,edge.width=ew,edge.arrow.mode=0)\n",
    "#Here the weights are set to unity/Null"
   ]
  },
  {
   "cell_type": "code",
   "execution_count": 32,
   "metadata": {},
   "outputs": [
    {
     "data": {
      "image/png": "[encoded data removed]",
      "text/plain": [
       "Plot with title \"\""
      ]
     },
     "metadata": {},
     "output_type": "display_data"
    }
   ],
   "source": [
    "plot(usair,layout=layout_with_drl(usair,weight=E(usair)$dist),vertex.color=vcol,vertex.size=vw,vertex.label=vlab,\n",
    "     edge.color=ecol,edge.width=ew,edge.arrow.mode=0)\n",
    "#Here the weights are set equal to the distance between nodes"
   ]
  },
  {
   "cell_type": "markdown",
   "metadata": {},
   "source": [
    "## Kamada-Kawai"
   ]
  },
  {
   "cell_type": "code",
   "execution_count": 33,
   "metadata": {},
   "outputs": [
    {
     "data": {
      "image/png": "[encoded data removed]",
      "text/plain": [
       "Plot with title \"\""
      ]
     },
     "metadata": {},
     "output_type": "display_data"
    }
   ],
   "source": [
    "plot(usair,layout=layout_with_kk,vertex.color=vcol,vertex.size=vw,vertex.label=vlab,\n",
    "     edge.color=ecol,edge.width=ew,edge.arrow.mode=0)\n",
    "#The above plot is a weighted plot with weights set to their natural edge weights"
   ]
  },
  {
   "cell_type": "code",
   "execution_count": 34,
   "metadata": {},
   "outputs": [
    {
     "data": {
      "image/png": "[encoded data removed]",
      "text/plain": [
       "Plot with title \"\""
      ]
     },
     "metadata": {},
     "output_type": "display_data"
    }
   ],
   "source": [
    "plot(usair,layout=layout_with_kk(usair,weight=NULL),vertex.color=vcol,vertex.size=vw,vertex.label=vlab,\n",
    "     edge.color=ecol,edge.width=ew,edge.arrow.mode=0)\n",
    "#Here the weights are set to unity/Null"
   ]
  },
  {
   "cell_type": "code",
   "execution_count": 35,
   "metadata": {},
   "outputs": [
    {
     "data": {
      "image/png": "[encoded data removed]",
      "text/plain": [
       "Plot with title \"\""
      ]
     },
     "metadata": {},
     "output_type": "display_data"
    }
   ],
   "source": [
    "plot(usair,layout=layout_with_kk(usair,weight=E(usair)$dist),vertex.color=vcol,vertex.size=vw,vertex.label=vlab,\n",
    "     edge.color=ecol,edge.width=ew,edge.arrow.mode=0)\n",
    "#Here the weights are set equal to the distance between nodes"
   ]
  },
  {
   "cell_type": "code",
   "execution_count": 36,
   "metadata": {},
   "outputs": [
    {
     "data": {
      "text/plain": [
       "[[1]]\n",
       "+ 2/332 vertices, named, from 8c9f0ce:\n",
       "[1] Eugenio Maria De Hostos Luis Munoz Marin Intl  \n"
      ]
     },
     "metadata": {},
     "output_type": "display_data"
    }
   ],
   "source": [
    "neighborhood(usair, nodes=323)  #From the graph, it can be seen that node 323 has only one neighbor"
   ]
  },
  {
   "cell_type": "code",
   "execution_count": null,
   "metadata": {},
   "outputs": [],
   "source": []
  },
  {
   "cell_type": "markdown",
   "metadata": {},
   "source": [
    "## Remove node with high betweenness centrality and see the changes in the graph"
   ]
  },
  {
   "cell_type": "code",
   "execution_count": 37,
   "metadata": {},
   "outputs": [
    {
     "data": {
      "text/html": [
       "332"
      ],
      "text/latex": [
       "332"
      ],
      "text/markdown": [
       "332"
      ],
      "text/plain": [
       "[1] 332"
      ]
     },
     "metadata": {},
     "output_type": "display_data"
    },
    {
     "data": {
      "text/html": [
       "2126"
      ],
      "text/latex": [
       "2126"
      ],
      "text/markdown": [
       "2126"
      ],
      "text/plain": [
       "[1] 2126"
      ]
     },
     "metadata": {},
     "output_type": "display_data"
    },
    {
     "data": {
      "image/png": "[encoded data removed]",
      "text/plain": [
       "Plot with title \"\""
      ]
     },
     "metadata": {},
     "output_type": "display_data"
    }
   ],
   "source": [
    "#Original\n",
    "vcount(usair)  #332\n",
    "ecount(usair)  #2126\n",
    "us_betw <- betweenness(usair,directed=FALSE)\n",
    "plot(usair, layout=layout_with_fr,vertex.size=4,vertex.label=NA,vertex.color='red',edge.arrow.size=0.5) #Original"
   ]
  },
  {
   "cell_type": "code",
   "execution_count": 38,
   "metadata": {},
   "outputs": [
    {
     "data": {
      "text/html": [
       "331"
      ],
      "text/latex": [
       "331"
      ],
      "text/markdown": [
       "331"
      ],
      "text/plain": [
       "[1] 331"
      ]
     },
     "metadata": {},
     "output_type": "display_data"
    },
    {
     "data": {
      "text/html": [
       "2097"
      ],
      "text/latex": [
       "2097"
      ],
      "text/markdown": [
       "2097"
      ],
      "text/plain": [
       "[1] 2097"
      ]
     },
     "metadata": {},
     "output_type": "display_data"
    },
    {
     "data": {
      "image/png": "[encoded data removed]",
      "text/plain": [
       "Plot with title \"\""
      ]
     },
     "metadata": {},
     "output_type": "display_data"
    }
   ],
   "source": [
    "#Remove node with highest betweenness centrality (N-1)\n",
    "rem_1stdeg_usair <- induced_subgraph(usair,which(us_betw<max(us_betw)),impl='auto')\n",
    "vcount(rem_1stdeg_usair) #331\n",
    "ecount(rem_1stdeg_usair) #2097\n",
    "plot(rem_1stdeg_usair, layout=layout_with_fr,vertex.size=4,vertex.label=NA,vertex.color='red',edge.arrow.size=0.5) #1st deg removed"
   ]
  },
  {
   "cell_type": "code",
   "execution_count": null,
   "metadata": {},
   "outputs": [],
   "source": []
  },
  {
   "cell_type": "code",
   "execution_count": null,
   "metadata": {},
   "outputs": [],
   "source": []
  },
  {
   "cell_type": "code",
   "execution_count": null,
   "metadata": {},
   "outputs": [],
   "source": []
  },
  {
   "cell_type": "code",
   "execution_count": null,
   "metadata": {},
   "outputs": [],
   "source": []
  },
  {
   "cell_type": "code",
   "execution_count": null,
   "metadata": {},
   "outputs": [],
   "source": []
  },
  {
   "cell_type": "code",
   "execution_count": null,
   "metadata": {},
   "outputs": [],
   "source": []
  },
  {
   "cell_type": "code",
   "execution_count": null,
   "metadata": {},
   "outputs": [],
   "source": []
  }
 ],
 "metadata": {
  "kernelspec": {
   "display_name": "R",
   "language": "R",
   "name": "ir"
  },
  "language_info": {
   "codemirror_mode": "r",
   "file_extension": ".r",
   "mimetype": "text/x-r-source",
   "name": "R",
   "pygments_lexer": "r",
   "version": "3.5.3"
  }
 },
 "nbformat": 4,
 "nbformat_minor": 2
}
